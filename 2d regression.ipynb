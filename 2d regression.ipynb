{
 "cells": [
  {
   "cell_type": "code",
   "execution_count": 1,
   "metadata": {},
   "outputs": [],
   "source": [
    "import matplotlib.pyplot as plt\n",
    "import pandas as pd\n",
    "import seaborn as sns\n",
    "import numpy as np\n",
    "import random\n"
   ]
  },
  {
   "cell_type": "markdown",
   "metadata": {},
   "source": [
    "# Linear Regression"
   ]
  },
  {
   "cell_type": "code",
   "execution_count": null,
   "metadata": {},
   "outputs": [],
   "source": [
    "def linear_regression(x, y, alpha):\n",
    "    #cost function: B1 = B1 - alpha* 1/m * sum((B0 + B1x_i -y_i)x_i)\n",
    "    m = len(x)\n",
    "    B_0 = 0\n",
    "    B_1 = 0\n",
    "    for j in range(0,10):\n",
    "        for i in range(0,10):\n",
    "            diff_cost = [(B_0 + B_1 * i - j) * i for i,j in zip(x,y)]\n",
    "            B_1 = B_1 - alpha / m * sum(diff_cost)\n",
    "            B_0 = sum(y)/m - sum(x)/m *B_1\n",
    "        print(B_1, B_0)"
   ]
  },
  {
   "cell_type": "code",
   "execution_count": null,
   "metadata": {},
   "outputs": [],
   "source": [
    "x = [1,2,3,4,5]\n",
    "y = [2,4,6,8,10.1]\n",
    "linear_regression(x,y,alpha= 0.1)"
   ]
  },
  {
   "cell_type": "markdown",
   "metadata": {},
   "source": [
    "# Multiple linear regression"
   ]
  },
  {
   "cell_type": "markdown",
   "metadata": {},
   "source": [
    "## Setting up the Functions"
   ]
  },
  {
   "cell_type": "code",
   "execution_count": 2,
   "metadata": {},
   "outputs": [],
   "source": [
    "# https://medium.com/we-are-orb/multivariate-linear-regression-in-python-without-scikit-learn-7091b1d4590\n",
    "\n",
    "def cost_function(x, y, theta):\n",
    "    squared = np.power(((x @ theta.T)-y), 2)\n",
    "    return np.sum(squared)/(2*len(x))\n",
    "\n",
    "\n",
    "def gradient_descent(x, y, theta, iter, alpha):\n",
    "    cost = np.zeros(iter)\n",
    "    for i in range(iter):\n",
    "        theta = theta - (alpha/ len(x)) * np.sum(x * ((x @ theta.T)-y), axis = 0)\n",
    "        cost[i] = cost_function(x, y, theta)\n",
    "    \n",
    "    return theta, cost\n",
    "\n",
    "def normalize_z(df):\n",
    "    data = (df - df.mean())/df.std()\n",
    "    return data"
   ]
  },
  {
   "cell_type": "markdown",
   "metadata": {},
   "source": [
    "## Setting up DataFrame"
   ]
  },
  {
   "cell_type": "code",
   "execution_count": 3,
   "metadata": {},
   "outputs": [
    {
     "data": {
      "text/html": [
       "<div>\n",
       "<style scoped>\n",
       "    .dataframe tbody tr th:only-of-type {\n",
       "        vertical-align: middle;\n",
       "    }\n",
       "\n",
       "    .dataframe tbody tr th {\n",
       "        vertical-align: top;\n",
       "    }\n",
       "\n",
       "    .dataframe thead th {\n",
       "        text-align: right;\n",
       "    }\n",
       "</style>\n",
       "<table border=\"1\" class=\"dataframe\">\n",
       "  <thead>\n",
       "    <tr style=\"text-align: right;\">\n",
       "      <th></th>\n",
       "      <th>x</th>\n",
       "      <th>y_exp</th>\n",
       "    </tr>\n",
       "  </thead>\n",
       "  <tbody>\n",
       "    <tr>\n",
       "      <th>0</th>\n",
       "      <td>0</td>\n",
       "      <td>-0.5</td>\n",
       "    </tr>\n",
       "    <tr>\n",
       "      <th>1</th>\n",
       "      <td>1</td>\n",
       "      <td>2.5</td>\n",
       "    </tr>\n",
       "    <tr>\n",
       "      <th>2</th>\n",
       "      <td>2</td>\n",
       "      <td>4.5</td>\n",
       "    </tr>\n",
       "    <tr>\n",
       "      <th>3</th>\n",
       "      <td>3</td>\n",
       "      <td>5.6</td>\n",
       "    </tr>\n",
       "    <tr>\n",
       "      <th>4</th>\n",
       "      <td>4</td>\n",
       "      <td>8.3</td>\n",
       "    </tr>\n",
       "  </tbody>\n",
       "</table>\n",
       "</div>"
      ],
      "text/plain": [
       "   x  y_exp\n",
       "0  0   -0.5\n",
       "1  1    2.5\n",
       "2  2    4.5\n",
       "3  3    5.6\n",
       "4  4    8.3"
      ]
     },
     "metadata": {},
     "output_type": "display_data"
    }
   ],
   "source": [
    "data = pd.DataFrame()\n",
    "data['x'] = range(50)\n",
    "random.seed(100)\n",
    "data['y_exp'] = [2*i + random.randint(-9,9)/10 for i in range(50)]\n",
    "display(data.head())"
   ]
  },
  {
   "cell_type": "markdown",
   "metadata": {},
   "source": [
    "## Normalising Data"
   ]
  },
  {
   "cell_type": "code",
   "execution_count": 4,
   "metadata": {},
   "outputs": [
    {
     "data": {
      "text/html": [
       "<div>\n",
       "<style scoped>\n",
       "    .dataframe tbody tr th:only-of-type {\n",
       "        vertical-align: middle;\n",
       "    }\n",
       "\n",
       "    .dataframe tbody tr th {\n",
       "        vertical-align: top;\n",
       "    }\n",
       "\n",
       "    .dataframe thead th {\n",
       "        text-align: right;\n",
       "    }\n",
       "</style>\n",
       "<table border=\"1\" class=\"dataframe\">\n",
       "  <thead>\n",
       "    <tr style=\"text-align: right;\">\n",
       "      <th></th>\n",
       "      <th>x</th>\n",
       "      <th>y_exp</th>\n",
       "    </tr>\n",
       "  </thead>\n",
       "  <tbody>\n",
       "    <tr>\n",
       "      <th>0</th>\n",
       "      <td>-1.680686</td>\n",
       "      <td>-1.699189</td>\n",
       "    </tr>\n",
       "    <tr>\n",
       "      <th>1</th>\n",
       "      <td>-1.612087</td>\n",
       "      <td>-1.596079</td>\n",
       "    </tr>\n",
       "    <tr>\n",
       "      <th>2</th>\n",
       "      <td>-1.543487</td>\n",
       "      <td>-1.527338</td>\n",
       "    </tr>\n",
       "    <tr>\n",
       "      <th>3</th>\n",
       "      <td>-1.474888</td>\n",
       "      <td>-1.489531</td>\n",
       "    </tr>\n",
       "    <tr>\n",
       "      <th>4</th>\n",
       "      <td>-1.406288</td>\n",
       "      <td>-1.396732</td>\n",
       "    </tr>\n",
       "  </tbody>\n",
       "</table>\n",
       "</div>"
      ],
      "text/plain": [
       "          x     y_exp\n",
       "0 -1.680686 -1.699189\n",
       "1 -1.612087 -1.596079\n",
       "2 -1.543487 -1.527338\n",
       "3 -1.474888 -1.489531\n",
       "4 -1.406288 -1.396732"
      ]
     },
     "metadata": {},
     "output_type": "display_data"
    }
   ],
   "source": [
    "df = (data - data.mean())/data.std()\n",
    "display(df.head())"
   ]
  },
  {
   "cell_type": "markdown",
   "metadata": {},
   "source": [
    "## Setting up Variables"
   ]
  },
  {
   "cell_type": "code",
   "execution_count": 5,
   "metadata": {},
   "outputs": [
    {
     "name": "stdout",
     "output_type": "stream",
     "text": [
      "Y_norm = 0.9998 X_norm + 0.0\n",
      "0.00014173020213057266\n"
     ]
    }
   ],
   "source": [
    "# Setting up matrices\n",
    "X = df[['x']]\n",
    "ones = np.ones((X.shape[0],1))\n",
    "X = np.concatenate((ones, X), axis = 1)\n",
    "\n",
    "Y = df[['y_exp']].values\n",
    "theta = np.zeros([1,2])\n",
    "\n",
    "# setting up parameters\n",
    "alpha = 0.01\n",
    "iters = 1000\n",
    "\n",
    "g, cost = gradient_descent(X, Y , theta, iters, alpha)\n",
    "print('Y_norm = {} X_norm + {}'.format(round(g[0,1], 5), round(g[0,0], 5)))\n",
    "print(cost[-1])"
   ]
  },
  {
   "cell_type": "markdown",
   "metadata": {},
   "source": [
    "## Converting to unnormalised data"
   ]
  },
  {
   "cell_type": "code",
   "execution_count": 6,
   "metadata": {},
   "outputs": [
    {
     "name": "stdout",
     "output_type": "stream",
     "text": [
      "[[0.04799501 1.99551041]]\n"
     ]
    }
   ],
   "source": [
    "theta[0,1] = g[0,1] * data['y_exp'].std() / data['x'].std()\n",
    "theta[0,0] = g[0,0] * data['y_exp'].std() - theta[0,1] * data['x'].mean() + data['y_exp'].mean()\n",
    "print(theta)"
   ]
  },
  {
   "cell_type": "markdown",
   "metadata": {},
   "source": [
    "## Calculating y_calc"
   ]
  },
  {
   "cell_type": "code",
   "execution_count": 7,
   "metadata": {},
   "outputs": [
    {
     "data": {
      "text/html": [
       "<div>\n",
       "<style scoped>\n",
       "    .dataframe tbody tr th:only-of-type {\n",
       "        vertical-align: middle;\n",
       "    }\n",
       "\n",
       "    .dataframe tbody tr th {\n",
       "        vertical-align: top;\n",
       "    }\n",
       "\n",
       "    .dataframe thead th {\n",
       "        text-align: right;\n",
       "    }\n",
       "</style>\n",
       "<table border=\"1\" class=\"dataframe\">\n",
       "  <thead>\n",
       "    <tr style=\"text-align: right;\">\n",
       "      <th></th>\n",
       "      <th>x</th>\n",
       "      <th>y_exp</th>\n",
       "      <th>y_calc</th>\n",
       "    </tr>\n",
       "  </thead>\n",
       "  <tbody>\n",
       "    <tr>\n",
       "      <th>0</th>\n",
       "      <td>0</td>\n",
       "      <td>-0.5</td>\n",
       "      <td>0.047995</td>\n",
       "    </tr>\n",
       "    <tr>\n",
       "      <th>1</th>\n",
       "      <td>1</td>\n",
       "      <td>2.5</td>\n",
       "      <td>2.043505</td>\n",
       "    </tr>\n",
       "    <tr>\n",
       "      <th>2</th>\n",
       "      <td>2</td>\n",
       "      <td>4.5</td>\n",
       "      <td>4.039016</td>\n",
       "    </tr>\n",
       "    <tr>\n",
       "      <th>3</th>\n",
       "      <td>3</td>\n",
       "      <td>5.6</td>\n",
       "      <td>6.034526</td>\n",
       "    </tr>\n",
       "    <tr>\n",
       "      <th>4</th>\n",
       "      <td>4</td>\n",
       "      <td>8.3</td>\n",
       "      <td>8.030037</td>\n",
       "    </tr>\n",
       "  </tbody>\n",
       "</table>\n",
       "</div>"
      ],
      "text/plain": [
       "   x  y_exp    y_calc\n",
       "0  0   -0.5  0.047995\n",
       "1  1    2.5  2.043505\n",
       "2  2    4.5  4.039016\n",
       "3  3    5.6  6.034526\n",
       "4  4    8.3  8.030037"
      ]
     },
     "metadata": {},
     "output_type": "display_data"
    }
   ],
   "source": [
    "data['y_calc'] = np.concatenate((ones,data[['x']]), axis = 1) @ theta.T\n",
    "display(data.head())"
   ]
  },
  {
   "cell_type": "markdown",
   "metadata": {},
   "source": [
    "## Plotting Cost over iterations"
   ]
  },
  {
   "cell_type": "code",
   "execution_count": 8,
   "metadata": {},
   "outputs": [
    {
     "data": {
      "image/png": "[encoded data removed]",
      "text/plain": [
       "<Figure size 432x288 with 1 Axes>"
      ]
     },
     "metadata": {
      "needs_background": "light"
     },
     "output_type": "display_data"
    }
   ],
   "source": [
    "fig, ax = plt.subplots()\n",
    "ax.plot(np.arange(iters), cost, 'r')\n",
    "ax.set_xlabel('iterations')\n",
    "ax.set_ylabel('Cost')\n",
    "ax.set_title('Error over iterations')\n",
    "plt.show()   "
   ]
  },
  {
   "cell_type": "markdown",
   "metadata": {},
   "source": [
    "## Visualising Data"
   ]
  },
  {
   "cell_type": "code",
   "execution_count": 9,
   "metadata": {},
   "outputs": [
    {
     "data": {
      "image/png": "[encoded data removed]",
      "text/plain": [
       "<Figure size 432x288 with 1 Axes>"
      ]
     },
     "metadata": {},
     "output_type": "display_data"
    }
   ],
   "source": [
    "sns.set()\n",
    "sns.scatterplot(x = 'x', y ='y_exp' , data = data, color = 'r')\n",
    "sns.lineplot(x = 'x', y ='y_calc' , data = data)\n",
    "plt.show()"
   ]
  },
  {
   "cell_type": "markdown",
   "metadata": {},
   "source": [
    "## Testing & Training Data"
   ]
  },
  {
   "cell_type": "markdown",
   "metadata": {},
   "source": [
    "# Importing Data"
   ]
  },
  {
   "cell_type": "code",
   "execution_count": 27,
   "metadata": {},
   "outputs": [
    {
     "data": {
      "text/html": [
       "<div>\n",
       "<style scoped>\n",
       "    .dataframe tbody tr th:only-of-type {\n",
       "        vertical-align: middle;\n",
       "    }\n",
       "\n",
       "    .dataframe tbody tr th {\n",
       "        vertical-align: top;\n",
       "    }\n",
       "\n",
       "    .dataframe thead th {\n",
       "        text-align: right;\n",
       "    }\n",
       "</style>\n",
       "<table border=\"1\" class=\"dataframe\">\n",
       "  <thead>\n",
       "    <tr style=\"text-align: right;\">\n",
       "      <th></th>\n",
       "      <th>Date</th>\n",
       "      <th>Daily Confirmed</th>\n",
       "      <th>Cumulative Confirmed</th>\n",
       "    </tr>\n",
       "  </thead>\n",
       "  <tbody>\n",
       "    <tr>\n",
       "      <th>500</th>\n",
       "      <td>2021-06-06</td>\n",
       "      <td>20</td>\n",
       "      <td>62196</td>\n",
       "    </tr>\n",
       "    <tr>\n",
       "      <th>501</th>\n",
       "      <td>2021-06-07</td>\n",
       "      <td>14</td>\n",
       "      <td>62210</td>\n",
       "    </tr>\n",
       "    <tr>\n",
       "      <th>502</th>\n",
       "      <td>2021-06-08</td>\n",
       "      <td>9</td>\n",
       "      <td>62219</td>\n",
       "    </tr>\n",
       "    <tr>\n",
       "      <th>503</th>\n",
       "      <td>2021-06-09</td>\n",
       "      <td>4</td>\n",
       "      <td>62223</td>\n",
       "    </tr>\n",
       "    <tr>\n",
       "      <th>504</th>\n",
       "      <td>2021-06-10</td>\n",
       "      <td>13</td>\n",
       "      <td>62236</td>\n",
       "    </tr>\n",
       "    <tr>\n",
       "      <th>...</th>\n",
       "      <td>...</td>\n",
       "      <td>...</td>\n",
       "      <td>...</td>\n",
       "    </tr>\n",
       "    <tr>\n",
       "      <th>648</th>\n",
       "      <td>2021-11-01</td>\n",
       "      <td>2470</td>\n",
       "      <td>200844</td>\n",
       "    </tr>\n",
       "    <tr>\n",
       "      <th>649</th>\n",
       "      <td>2021-11-02</td>\n",
       "      <td>3496</td>\n",
       "      <td>204340</td>\n",
       "    </tr>\n",
       "    <tr>\n",
       "      <th>650</th>\n",
       "      <td>2021-11-03</td>\n",
       "      <td>3635</td>\n",
       "      <td>207975</td>\n",
       "    </tr>\n",
       "    <tr>\n",
       "      <th>651</th>\n",
       "      <td>2021-11-04</td>\n",
       "      <td>3003</td>\n",
       "      <td>210978</td>\n",
       "    </tr>\n",
       "    <tr>\n",
       "      <th>652</th>\n",
       "      <td>2021-11-05</td>\n",
       "      <td>1767</td>\n",
       "      <td>212745</td>\n",
       "    </tr>\n",
       "  </tbody>\n",
       "</table>\n",
       "<p>153 rows × 3 columns</p>\n",
       "</div>"
      ],
      "text/plain": [
       "           Date  Daily Confirmed  Cumulative Confirmed\n",
       "500  2021-06-06               20                 62196\n",
       "501  2021-06-07               14                 62210\n",
       "502  2021-06-08                9                 62219\n",
       "503  2021-06-09                4                 62223\n",
       "504  2021-06-10               13                 62236\n",
       "..          ...              ...                   ...\n",
       "648  2021-11-01             2470                200844\n",
       "649  2021-11-02             3496                204340\n",
       "650  2021-11-03             3635                207975\n",
       "651  2021-11-04             3003                210978\n",
       "652  2021-11-05             1767                212745\n",
       "\n",
       "[153 rows x 3 columns]"
      ]
     },
     "metadata": {},
     "output_type": "display_data"
    },
    {
     "data": {
      "text/plain": [
       "<AxesSubplot:ylabel='Daily Confirmed'>"
      ]
     },
     "execution_count": 27,
     "metadata": {},
     "output_type": "execute_result"
    },
    {
     "data": {
      "image/png": "[encoded data removed]",
      "text/plain": [
       "<Figure size 432x288 with 1 Axes>"
      ]
     },
     "metadata": {},
     "output_type": "display_data"
    }
   ],
   "source": [
    "df1 = pd.read_csv('archive/covid19_sg.csv')\n",
    "data1 = df1.loc[500:,['Date', 'Daily Confirmed', 'Cumulative Confirmed']]\n",
    "\n",
    "display(data2)\n",
    "sns.scatterplot(x = data1.index, y = data1['Daily Confirmed'])\n"
   ]
  },
  {
   "cell_type": "markdown",
   "metadata": {},
   "source": [
    "# Test"
   ]
  },
  {
   "cell_type": "code",
   "execution_count": null,
   "metadata": {},
   "outputs": [],
   "source": [
    "def multiple_lin_reg(y, x, alpha, theta):\n",
    "    m = len(y)\n",
    "    B = theta\n",
    "    for i in range(0, 10):\n",
    "        diff_vec = np.sum(x * ((x @ B.T) - y), axis = 0)\n",
    "        v2 = - alpha/m * diff_vec\n",
    "        print(v2, B.shape)\n",
    "        B = B - np.transpose(v2)\n",
    "    return B"
   ]
  },
  {
   "cell_type": "code",
   "execution_count": null,
   "metadata": {},
   "outputs": [],
   "source": [
    "x = [1,2,3,4,5]\n",
    "y = [2,4,6,8,10.1]\n",
    "theta = np.zeros([1,2])\n",
    "x_mat = np.array([[1, i] for i in x])\n",
    "y_vec = np.array([[i] for i in y])\n",
    "display(x_mat.shape) \n",
    "display(theta.shape)\n",
    "display(x_mat@theta.T)\n",
    "multiple_lin_reg(x = x_mat,y =  y_vec, alpha= 0.01, theta = np.array([[0, 0]]))"
   ]
  },
  {
   "cell_type": "code",
   "execution_count": null,
   "metadata": {},
   "outputs": [],
   "source": [
    "df_x = pd.DataFrame(x_mat)\n",
    "df_y = y_vec\n",
    "B_0 = multiple_lin_reg(y = df_y, x =  df_x, alpha = 0.02, theta= np.zeros([1,2]))\n",
    "display(B_0)\n",
    "\n",
    "display(df_y)\n",
    "\n",
    "sns.relplot(x = df['x'], y = df['y'], kind = 'scatter')\n",
    "sns.relplot(x = df['x'], y = df['y_exp'], kind = 'line')\n",
    "plt.show()"
   ]
  },
  {
   "cell_type": "code",
   "execution_count": null,
   "metadata": {},
   "outputs": [],
   "source": []
  }
 ],
 "metadata": {
  "interpreter": {
   "hash": "482a3bbc732a7701fdabffa49478c89617bf5e323a9f0f37f6015fc80e9c458d"
  },
  "kernelspec": {
   "display_name": "Python 3.8.5 64-bit ('base': conda)",
   "name": "python3"
  },
  "language_info": {
   "codemirror_mode": {
    "name": "ipython",
    "version": 3
   },
   "file_extension": ".py",
   "mimetype": "text/x-python",
   "name": "python",
   "nbconvert_exporter": "python",
   "pygments_lexer": "ipython3",
   "version": "3.8.5"
  }
 },
 "nbformat": 4,
 "nbformat_minor": 2
}
